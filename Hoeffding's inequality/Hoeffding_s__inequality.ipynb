{
 "cells": [
  {
   "cell_type": "markdown",
   "id": "caa503fc",
   "metadata": {},
   "source": [
    "# Hoeffing's inequality\n"
   ]
  },
  {
   "cell_type": "markdown",
   "id": "7b59e5d1",
   "metadata": {},
   "source": [
    "________"
   ]
  },
  {
   "cell_type": "markdown",
   "id": "e7bbe5ce",
   "metadata": {},
   "source": [
    "\n",
    "- Author: <a href=\"https://github.com/Malgus1995\">Sung uk Jung</a>\n",
    "- Tags: Learning Theory, Probability, Deep learning\n",
    "- 리뷰여부: No\n",
    "- Ji su Kim\n",
    " "
   ]
  },
  {
   "cell_type": "markdown",
   "id": "0bc3c59a",
   "metadata": {},
   "source": [
    "보통 확률론에서, Hoeffing's inequality는 upper bound를 제공하고, 이는 독립적인 랜덤 변수들의 합이 랜덤 변수들의 기대값에서부터 일정량이상 벗어날 확률을 구하는 것이다. 여기서 랜덤 변수들에 대한 제약조건이 하나 붙는데, 이는 일반 independent random variable이 아닌, bounded independent random variables이므로, 각 변수들은 $a_i \\leq X_i \\leq b_i$로 특정 범위 내에서 랜덤 변수들임을 의미한다. \n",
    "\n",
    "#### 가정 \n",
    "- $X_1,X_2,...X_n$ 은 독립적인 랜덤 변수들이다. ($a_i \\leq X_i \\leq b_i$)\n",
    "- ($a_i \\leq X_i \\leq b_i$)에 존재하는 모든 $X$들은 convex하다.\n",
    "- $S_n = X_1+X_2+...X_n$로 가정함\n",
    "위의 가정을 가지고, 아래 Hoeffing's inequality를 표기한다면 다음과 같다.\n",
    "### Hoeffing's inequality \n",
    "$$P(S_n - E[S_n] \\geq t) \\leq exp\t\\left(-\\frac{2t^2}{\\sum_{i=1}^{n}(b_i-a_i)^2}\t\\right)$$"
   ]
  },
  {
   "cell_type": "markdown",
   "id": "8ae4b24e",
   "metadata": {},
   "source": [
    "$\n",
    "(s,t>0) \n",
    "\n",
    "\\begin{align*}\n",
    "P(S_n- E[S_n] \\geq t) &= P(exp(s(S_n - E[S_n]))\\geq exp(st)) \\\\\n",
    "                      &\\leq exp(-st)E[exp(s(S_n-E[S_n]))] \\\\\n",
    "                      &=exp(-st)\\prod_{i=1}^nE[exp(s(X_i-E[X_i]))] \\\\\n",
    "                      &\\leq exp(-st)\\prod_{i=1}^n exp \\left( \\frac{s^2(b_i-a_i)^2}{8}\\right) \\\\\n",
    "                      &= exp\\left(-st+ \\frac{1}{8}s^2\\sum_{i=1}^{n}(b_i-a_i)^2\\right) \\\\\n",
    "\\end{align*}\n",
    "$"
   ]
  },
  {
   "cell_type": "markdown",
   "id": "05333061",
   "metadata": {},
   "source": [
    "exponential의 내부를 최소화시키는 값 s로 생성된 bound는 가장 좋은 값이다. 이는 2차함수의 convex한 점을 찾아야하는 것이므로, $\\left(-st+ \\frac{1}{8}s^2\\sum_{i=1}^{n}(b_i-a_i)^2\\right)$를 2차함수로 변형 후 한다. $ a = \\sum_{i=1}^{n}(b_i-a_i)^2 , b = 8t $와 같은 가정을 두고, 2차함수를 생성한다. \n",
    "\n",
    "$\n",
    "\\begin{align*}\n",
    "a(s^2 -\\frac{bs}{a}) &=a(s^2 - \\frac{bs}{a}+ \\frac{b^2}{4a^2} -\\frac{b^2}{4a^2}) \\\\\n",
    "                     &= a(s- \\frac{b}{2a})^2- \\frac{b^2}{4a}\n",
    "\\end{align*}\n",
    "$\n",
    "\n",
    "이므로, 최소화하는 s의 값은 $\\frac{b}{2a}$이고 이는 $s = \\frac{4t}{\\sum_{i}^{n}(b_i-a_i)^2}$를 만족한다."
   ]
  },
  {
   "cell_type": "markdown",
   "id": "d3e8a298",
   "metadata": {},
   "source": [
    "수업에서는 딥러닝 모델의 학습과정과 연관시키기 위해서 한가지 가정이 더 추가되는데, $\\hat{e}r_z(h) =P\\{(x,y) \\in \\mathbb{Z} : h(x) \\neq y\\}$ 이는 x가 입력으로 들어왔고, h가 딥러닝 모델일 때, 정답 y를 예측을 실패할 때의 수치를 계산하는 것이다. Sample error라고 부르며 다음과 같이 정의한다.\n",
    "\n",
    "$$\\hat{e}r_z(h) = \\frac{1}{m}|\\{i:1 \\leq i \\leq m and h(x_i)\\neq y_i\\}$$\n",
    "\n",
    "이는 큰수의 법칙에 의해 다음을 만족한다. (큰수의 법칙에 대해서는 다른 포스트에서 다룰 예정임.)\n",
    "\n",
    "$$\\hat{e}r_z(h) \\rightarrow^{P}_{m->\\infty} er_p(h)$$\n",
    "\n",
    "이는 sample dimension의 크기를 무한대로 확장시켰을때, 가장 이상적인 Sample error에 수렴하게 된다는 것을 의미한다. (h는 hypothesis로 딥러닝 모델이 추론한 결과를 말하는 것임)"
   ]
  },
  {
   "cell_type": "markdown",
   "id": "2b93a47e",
   "metadata": {},
   "source": [
    "해서 위의 Hoeffing's inequality의 확률 값에 대해 $\\hat{e}r_z(h)$를 대입한다면, 다음과 같이 표기할 수 있다.\n",
    "$$P^m\\{\\hat{e}r_z(h) - er_p(h)|\\geq \\gamma \\} \\leq 2exp(-2\\gamma^2m)$$\n",
    "여기서 $\\gamma$는 우리가 이상적인 샘플의 추론의 값과 우리가 예측하는 모델의 추론의 범위를 줄이고자하는 확률적인 스레셔홀드역할을 한다고 볼수 있고 m의 경우는 샘플의 크기를 의미한다. 즉, 많은 샘플을 가질 수록 $\\gamma$의 값을 더 작게 잡을 수 있는 것이다. "
   ]
  },
  {
   "cell_type": "markdown",
   "id": "6bc9f825",
   "metadata": {},
   "source": [
    "## Hoeffding's inequliaty의 정리\n",
    "\n",
    "$E[e^{\\lambda(X-E(X))}] \\leq exp\\left(\\frac{1}{8}\\lambda^2(b-a)^2 \\right)$ 을 만족하는 Hoeffding ineuqality가 있다고 가정하자."
   ]
  },
  {
   "cell_type": "markdown",
   "id": "474d4357",
   "metadata": {},
   "source": [
    "\n",
    "- $a \\leq X \\leq b$를 만족할 때, 다음을 만족한다. $a \\leq E(X) \\leq b \\rightarrow a- E(X) \\leq X- E(X) \\leq b- E(X) $ \n",
    "\n",
    "이는 만약 E(X)가 a든 b든 $E(e^0) = 1$로 나올 것이다. 이 두가지의 경우에서 Hoeffding 정리가 참인것을 확인할 수 있다.\n",
    "\n",
    "- $a- E(X) \\leq X- E(X) \\leq b- E(X) $이 경우에서 여기에 속하는 점들이 모두 Convex한 것을 알 수 있다. (* hoeffding's inequality의 RHS에 존재하는 exponential  함수자체가 convex한 함수이다.)\n",
    "\n",
    "위의 성질을 이용하여 각점들의 차이에 대한 x축과 y축의 비율을 다음과 같이 표현할 수 있다.\n",
    "\n",
    "$$\\frac{(b-x)e^{\\lambda(b-E(X))}+(X-a)e^{\\lambda(b-E(X))}}{x-a+b-x}$$\n",
    "\n",
    "이는 다음과 같이 전개할 수 있다.\n",
    "$\n",
    "\\begin{align*}\n",
    "E\\left( e^{\\lambda(X-E(X))}\\right) &\\leq \\frac{b-E(X)}{b-a}e^{\\lambda(a-E(X))}+\\frac{E(X)-a}{b-a}e^{\\lambda(b-E(X))} \\\\ \n",
    "                                   &=(1-\\theta)e^{\\lambda(a-E(X))}+(\\theta)e^{\\lambda(b-E(X))} ..(\\theta >0) \\\\\n",
    "                                   &= e^{\\lambda(a-E(X))}(1-\\theta+\\theta e^{\\lambda(b-a)}) \\ \\therefore \\theta = \\frac{E(X)-a}{b-a} \\\\ \n",
    "                                   &= e^{-\\lambda\\theta(b-a)}(1-\\theta+\\theta e^{\\lambda(b-a)}) \\therefore v= \\lambda(b-a)\\\\ \n",
    "                                   &= e^{-\\theta v}(1-\\theta+\\theta e^{v}) \\leq e^{\\frac{1}{8}v^2} = e^{\\frac{1}{8}\\lambda^2 (b-a)^2}\n",
    "\\end{align*}\n",
    "$\n",
    "\n",
    "마지막에 $\\frac{1}{8}$이 upper bound에 걸리게 되는데 이는 tailer expantion 으로 구해질수 있다."
   ]
  },
  {
   "cell_type": "markdown",
   "id": "1c5f6b97",
   "metadata": {},
   "source": [
    "### Tailer expantion for $\\frac{1}{8}$"
   ]
  },
  {
   "cell_type": "markdown",
   "id": "7f04b2d9",
   "metadata": {},
   "source": [
    "위의 전개식에서  exp를 떼는 작업을 하고 이를 $g$라는 하나의 함수로 두자.\n",
    "\n",
    "$\n",
    "\\begin{align*}\n",
    "e^{-\\theta v}(1-\\theta+\\theta e^{v}) &\\leq e^{\\frac{1}{8}v^2} \\\\\n",
    "e^{-\\theta v +log(1-\\theta+\\theta e^{v})} &\\leq e^{\\frac{1}{8}v^2} \\\\ \n",
    "g(v) = -\\theta v +log(1-\\theta+\\theta e^{v})     &\\leq \\frac{1}{8}v^2\n",
    "\\end{align*}\n",
    "$\n",
    "\n",
    "추출된 g에 대해 tailer expantion을 적용g한다.\n",
    "\n",
    "$$g(v) = g(0)+g'(0)(v-0)+\\frac{1}{2}g''(0)(v-0)^2+ \\frac{1}{n!}g^{'n}(v-o)^n$$\n",
    "\n",
    "인데, w라는 값을 하나 더 추가해서 뒤에꺼 퉁친다고 하고, 2차까지만 적용한다. $(0<w<v)$\n",
    "\n",
    "$$g(v) = g(0)+g'(0)(v-0)+\\frac{1}{2}g''(w)(v-0)^2$$\n",
    "\n",
    "각 값에 대한 것을 정리하면\n",
    "\n",
    "$\n",
    "\\begin{align*}\n",
    "g(0) &= 0 \\\\\n",
    "g'(0)&=0 \\\\\n",
    "g'(v)&=-\\theta + \\frac{\\theta e^v}{1-\\theta+\\theta e ^v}\n",
    "\\end{align*}\n",
    "$\n",
    "\n",
    "이를 위의 식에 적용한다면, w빼고 다죽는다.\n",
    "\n",
    "$$g(v) = \\frac{1}{2} g''(w)v^2$$\n",
    "\n",
    "여기서 $g'(v)=-\\theta + \\frac{\\theta e^v}{1-\\theta+\\theta e^v}$를 이용하여 $g''(v)$를 구한다면,\n",
    "$$g''(v) = \\frac{\\theta e^v(1-\\theta)}{(1-\\theta+\\theta e^v)^2}$$\n",
    "\n",
    "이는 \n",
    "\n",
    "$\n",
    "\\begin{align*}\n",
    "\\frac{\\theta e^v(1-\\theta)}{(1-\\theta+\\theta e^v)^2} &=\\frac{\\theta e^v}{(1-\\theta+\\theta e^v)}\\frac{(1-\\theta)}{(1-\\theta+\\theta e^v)} \\\\ \n",
    "                                                    \\frac{1}{4} &\\geq p(1-p) \n",
    "\\end{align*}\n",
    "$\n",
    "\n",
    "$*\\frac{1}{4}$보다 작은 이유는 p(1-p)의 값이 $p-p^2$가 되는데, 이식은 2차함수로 concave하다는 점이 있고 이 concave한 값의 max값이 $\\frac{1}{4}$이기 때문이다.\n",
    "\n",
    "$$-(p-\\frac{1}{2})^2 +\\frac{1}{4} \\therefore p= \\frac{1}{2}$$\n",
    "\n",
    "이 max 값인 $\\frac{1}{4}$이 tailer expantion의 $g''(w)$에 들어가서 \\frac{1}{8}이 되는 것이고 0과 v사이에 있는 g''(w)는 $\\frac{1}{4}보다 적다는 것이 증명된다."
   ]
  }
 ],
 "metadata": {
  "kernelspec": {
   "display_name": "Python 3 (ipykernel)",
   "language": "python",
   "name": "python3"
  },
  "language_info": {
   "codemirror_mode": {
    "name": "ipython",
    "version": 3
   },
   "file_extension": ".py",
   "mimetype": "text/x-python",
   "name": "python",
   "nbconvert_exporter": "python",
   "pygments_lexer": "ipython3",
   "version": "3.9.7"
  }
 },
 "nbformat": 4,
 "nbformat_minor": 5
}
